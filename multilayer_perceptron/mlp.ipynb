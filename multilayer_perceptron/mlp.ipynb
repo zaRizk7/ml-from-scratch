{
 "cells": [
  {
   "cell_type": "code",
   "execution_count": 1,
   "id": "47ebd5ab-a0a0-456c-9bbd-9cc5b585e4ab",
   "metadata": {},
   "outputs": [],
   "source": [
    "import random\n",
    "import numpy as np\n",
    "import matplotlib.pyplot as plt\n",
    "from sklearn.datasets import load_diabetes\n",
    "from tqdm.auto import tqdm\n",
    "\n",
    "random.seed(2022)\n",
    "np.random.seed(2022)\n",
    "plt.style.use(\"ggplot\")"
   ]
  },
  {
   "cell_type": "code",
   "execution_count": 2,
   "id": "1c8653ad-d6ce-41f3-9d63-bd9219027b16",
   "metadata": {},
   "outputs": [],
   "source": [
    "class DataLoader:\n",
    "    def __init__(self, X, y, batch_size, shuffle=True):\n",
    "        self.X = X.astype(np.float32)\n",
    "        self.y = y.astype(np.float32)\n",
    "        self.batch_size = batch_size\n",
    "        self.shuffle = shuffle\n",
    "\n",
    "    def __len__(self):\n",
    "        size = self.y.shape[0]\n",
    "        size_batch = size // self.batch_size\n",
    "        if size_batch <= 0:\n",
    "            return 1\n",
    "        return size_batch\n",
    "\n",
    "    def __getitem__(self, i):\n",
    "        i_start = i * self.batch_size\n",
    "        i_end = (i + 1) * self.batch_size\n",
    "        X_batch = self.X[i_start:i_end]\n",
    "        y_batch = self.y[i_start:i_end]\n",
    "        if y_batch.shape[0] <= 0:\n",
    "            if self.shuffle:\n",
    "                idx = np.arange(self.y.shape[0])\n",
    "                permutation = np.random.permutation(idx)\n",
    "                self.X = self.X[idx]\n",
    "                self.y = self.y[idx]\n",
    "            raise IndexError(\"End of item\")\n",
    "        return X_batch, y_batch\n"
   ]
  },
  {
   "cell_type": "code",
   "execution_count": 4,
   "id": "bc45f1f5-e8a4-43b6-aa1d-79fa43027f69",
   "metadata": {},
   "outputs": [
    {
     "data": {
      "application/vnd.jupyter.widget-view+json": {
       "model_id": "67149e7ad0b34e0f9055fc3795dec5ad",
       "version_major": 2,
       "version_minor": 0
      },
      "text/plain": [
       "  0%|          | 0/1000 [00:00<?, ?it/s]"
      ]
     },
     "metadata": {},
     "output_type": "display_data"
    },
    {
     "data": {
      "image/png": "[encoded data removed]",
      "text/plain": [
       "<Figure size 432x288 with 1 Axes>"
      ]
     },
     "metadata": {
      "needs_background": "light"
     },
     "output_type": "display_data"
    }
   ],
   "source": [
    "data = load_diabetes()\n",
    "X, y = data[\"data\"], data[\"target\"]\n",
    "\n",
    "X_min, X_max = np.min(X, 0), np.max(X, 0)\n",
    "\n",
    "X = (X - X_min) / (X_max - X_min)\n",
    "\n",
    "# Dataloader hyperparameters\n",
    "batch_size = 32\n",
    "shuffle = True\n",
    "\n",
    "# Training hyperparameters\n",
    "epoch = 1000\n",
    "lr = 1e-4\n",
    "weight_decay = 1e-5\n",
    "\n",
    "# Dataloader\n",
    "dataloader = DataLoader(X, y, batch_size, shuffle)\n",
    "\n",
    "# Model\n",
    "W1 = np.random.normal(size=(X.shape[-1], 32)).astype(np.float32) * 1e-3\n",
    "b1 = np.random.normal(size=(32,)).astype(np.float32) * 1e-3\n",
    "\n",
    "W2 = np.random.normal(size=(32, 64)).astype(np.float32) * 1e-3\n",
    "b2 = np.random.normal(size=(64,)).astype(np.float32) * 1e-3\n",
    "\n",
    "W3 = np.random.normal(size=(64, 1)).astype(np.float32) * 1e-3\n",
    "b3 = np.random.normal(size=(1)).astype(np.float32) * 1e-3\n",
    "\n",
    "result = []\n",
    "pbar = tqdm(range(1, epoch + 1))\n",
    "for i in pbar:\n",
    "    loss_epoch = 0\n",
    "    for x_train, y_train in dataloader:\n",
    "        # Forward pass\n",
    "        bmm1 = np.einsum(\"bi,io->bo\", x_train, W1)\n",
    "        add1 = bmm1 + b1\n",
    "\n",
    "        bmm2 = np.einsum(\"bi,io->bo\", add1, W2)\n",
    "        add2 = bmm2 + b2\n",
    "\n",
    "        bmm3 = np.einsum(\"bi,io->bo\", add2, W3)\n",
    "        add3 = bmm3 + b3\n",
    "\n",
    "        # Calculate loss (MSE)\n",
    "        diff = add3 - y_train[:, None]\n",
    "        loss = np.mean(np.square(diff)) / 2\n",
    "\n",
    "        # Backward pass\n",
    "        size = x_train.shape[0]\n",
    "        out3_grad = diff / size\n",
    "\n",
    "        b3_grad = np.einsum(\"o,bo->o\", np.ones_like(b3), out3_grad)\n",
    "        W3_grad = np.einsum(\"bi,bo->io\", bmm2, out3_grad)\n",
    "\n",
    "        out2_grad = np.einsum(\"io,bo->bi\", W3, out3_grad)\n",
    "\n",
    "        b2_grad = np.einsum(\"o,bo->o\", np.ones_like(b2), out2_grad)\n",
    "        W2_grad = np.einsum(\"bi,bo->io\", bmm1, out2_grad)\n",
    "\n",
    "        out1_grad = np.einsum(\"io,bo->bi\", W2, out2_grad)\n",
    "\n",
    "        b1_grad = np.einsum(\"o,bo->o\", np.ones_like(b1), out1_grad)\n",
    "        W1_grad = np.einsum(\"bi,bo->io\", x_train, out1_grad)\n",
    "\n",
    "        # Optimize (SGD)\n",
    "\n",
    "        # Regularize\n",
    "        b3_grad += b3 * weight_decay\n",
    "        W3_grad += W3 * weight_decay\n",
    "\n",
    "        b2_grad += b2 * weight_decay\n",
    "        W2_grad += W2 * weight_decay\n",
    "\n",
    "        b1_grad += b1 * weight_decay\n",
    "        W1_grad += W1 * weight_decay\n",
    "\n",
    "        # Update parameters\n",
    "        b3 -= lr * b3_grad\n",
    "        W3 -= lr * W3_grad\n",
    "\n",
    "        b2 -= lr * b2_grad\n",
    "        W2 -= lr * W2_grad\n",
    "\n",
    "        b1 -= lr * b1_grad\n",
    "        W1 -= lr * W1_grad\n",
    "\n",
    "        # Record batch-wise loss\n",
    "        loss_epoch += loss\n",
    "\n",
    "    loss_epoch = loss_epoch / len(dataloader)\n",
    "\n",
    "    # Add epoch loss to progress bar\n",
    "    pbar.set_postfix(loss=f\"{loss_epoch:,.4f}\")\n",
    "\n",
    "    # Record batch-wise mean loss\n",
    "    result.append(loss_epoch)\n",
    "\n",
    "plt.plot(result)\n",
    "plt.xlabel(\"Epoch\")\n",
    "plt.xlim(1, epoch + 1)\n",
    "plt.ylabel(\"Loss\")\n",
    "plt.show()"
   ]
  }
 ],
 "metadata": {
  "kernelspec": {
   "display_name": "Python 3.9.7 64-bit",
   "language": "python",
   "name": "python3"
  },
  "language_info": {
   "codemirror_mode": {
    "name": "ipython",
    "version": 3
   },
   "file_extension": ".py",
   "mimetype": "text/x-python",
   "name": "python",
   "nbconvert_exporter": "python",
   "pygments_lexer": "ipython3",
   "version": "3.9.7"
  },
  "vscode": {
   "interpreter": {
    "hash": "c347c8f9a7ef94e4c9e03b4513be7835ed18f45b99a2a817fb579f408b867b16"
   }
  },
  "widgets": {
   "application/vnd.jupyter.widget-state+json": {
    "state": {
     "04efd946a84347afb6ba987fd4931618": {
      "model_module": "@jupyter-widgets/controls",
      "model_module_version": "1.5.0",
      "model_name": "HTMLModel",
      "state": {
       "layout": "IPY_MODEL_45e0cb7f8951470c91e4ca174ae851c6",
       "style": "IPY_MODEL_6315d64fb0134e44beff314eaf135f95",
       "value": "100%"
      }
     },
     "2c041c3934a34e7988a0339242981f26": {
      "model_module": "@jupyter-widgets/base",
      "model_module_version": "1.2.0",
      "model_name": "LayoutModel",
      "state": {}
     },
     "3a87155744894b2b8e504d166e64fe44": {
      "model_module": "@jupyter-widgets/base",
      "model_module_version": "1.2.0",
      "model_name": "LayoutModel",
      "state": {}
     },
     "45e0cb7f8951470c91e4ca174ae851c6": {
      "model_module": "@jupyter-widgets/base",
      "model_module_version": "1.2.0",
      "model_name": "LayoutModel",
      "state": {}
     },
     "6315d64fb0134e44beff314eaf135f95": {
      "model_module": "@jupyter-widgets/controls",
      "model_module_version": "1.5.0",
      "model_name": "DescriptionStyleModel",
      "state": {
       "description_width": ""
      }
     },
     "761dd4cf86024f4abdfe758f04320c87": {
      "model_module": "@jupyter-widgets/controls",
      "model_module_version": "1.5.0",
      "model_name": "DescriptionStyleModel",
      "state": {
       "description_width": ""
      }
     },
     "9057a92ff7a449a4ab158ba9aeda7da6": {
      "model_module": "@jupyter-widgets/controls",
      "model_module_version": "1.5.0",
      "model_name": "ProgressStyleModel",
      "state": {
       "description_width": ""
      }
     },
     "919e877ca4c343cf938a5b5a1d563e1b": {
      "model_module": "@jupyter-widgets/controls",
      "model_module_version": "1.5.0",
      "model_name": "HBoxModel",
      "state": {
       "children": [
        "IPY_MODEL_04efd946a84347afb6ba987fd4931618",
        "IPY_MODEL_a78596dff71d40e1824b418944263190",
        "IPY_MODEL_d359c8d744ac40bea65138f98a5ab371"
       ],
       "layout": "IPY_MODEL_d723717afc54496aa58a1473a6295ec3"
      }
     },
     "a78596dff71d40e1824b418944263190": {
      "model_module": "@jupyter-widgets/controls",
      "model_module_version": "1.5.0",
      "model_name": "FloatProgressModel",
      "state": {
       "bar_style": "success",
       "layout": "IPY_MODEL_3a87155744894b2b8e504d166e64fe44",
       "max": 1000,
       "style": "IPY_MODEL_9057a92ff7a449a4ab158ba9aeda7da6",
       "value": 1000
      }
     },
     "d359c8d744ac40bea65138f98a5ab371": {
      "model_module": "@jupyter-widgets/controls",
      "model_module_version": "1.5.0",
      "model_name": "HTMLModel",
      "state": {
       "layout": "IPY_MODEL_2c041c3934a34e7988a0339242981f26",
       "style": "IPY_MODEL_761dd4cf86024f4abdfe758f04320c87",
       "value": " 1000/1000 [00:02&lt;00:00, 360.93it/s, loss=1,556.3273]"
      }
     },
     "d723717afc54496aa58a1473a6295ec3": {
      "model_module": "@jupyter-widgets/base",
      "model_module_version": "1.2.0",
      "model_name": "LayoutModel",
      "state": {}
     }
    },
    "version_major": 2,
    "version_minor": 0
   }
  }
 },
 "nbformat": 4,
 "nbformat_minor": 5
}
