{
 "cells": [
  {
   "cell_type": "code",
   "execution_count": 1,
   "id": "47ebd5ab-a0a0-456c-9bbd-9cc5b585e4ab",
   "metadata": {},
   "outputs": [],
   "source": [
    "import random\n",
    "import numpy as np\n",
    "import pandas as pd\n",
    "import seaborn as sns\n",
    "import matplotlib.pyplot as plt\n",
    "from sklearn.datasets import load_diabetes\n",
    "from sklearn.model_selection import train_test_split\n",
    "from tqdm import tqdm\n",
    "\n",
    "random.seed(2022)\n",
    "np.random.seed(2022)\n",
    "plt.style.use(\"ggplot\")\n"
   ]
  },
  {
   "cell_type": "code",
   "execution_count": 2,
   "id": "1c8653ad-d6ce-41f3-9d63-bd9219027b16",
   "metadata": {},
   "outputs": [],
   "source": [
    "class DataLoader:\n",
    "    def __init__(self, X, y, batch_size, shuffle=True):\n",
    "        self.X = X.astype(np.float32)\n",
    "        self.y = y.astype(np.float32)\n",
    "        self.batch_size = batch_size\n",
    "        self.shuffle = shuffle\n",
    "\n",
    "    def __len__(self):\n",
    "        size = self.y.shape[0]\n",
    "        size_batch = size // self.batch_size\n",
    "        if size_batch <= 0:\n",
    "            return 1\n",
    "        return size_batch\n",
    "\n",
    "    def __getitem__(self, i):\n",
    "        i_start = i * self.batch_size\n",
    "        i_end = (i + 1) * self.batch_size\n",
    "        X_batch = self.X[i_start:i_end]\n",
    "        y_batch = self.y[i_start:i_end]\n",
    "        if y_batch.shape[0] <= 0:\n",
    "            if self.shuffle:\n",
    "                idx = np.arange(self.y.shape[0])\n",
    "                permutation = np.random.permutation(idx)\n",
    "                self.X = self.X[idx]\n",
    "                self.y = self.y[idx]\n",
    "            raise IndexError(\"End of item\")\n",
    "        return X_batch, y_batch\n"
   ]
  },
  {
   "cell_type": "code",
   "execution_count": 3,
   "id": "83ebcd03",
   "metadata": {},
   "outputs": [],
   "source": [
    "data = load_diabetes()\n",
    "X, y = data[\"data\"], data[\"target\"]\n",
    "\n",
    "X_train, X_valid, y_train, y_valid = train_test_split(X, y, test_size=0.2)\n",
    "\n",
    "X_min, X_max = np.min(X_train, 0), np.max(X_train, 0)\n",
    "\n",
    "X_train = (X_train - X_min) / (X_max - X_min)\n",
    "X_valid = (X_valid - X_min) / (X_max - X_min)\n",
    "\n",
    "# Dataloader hyperparameters\n",
    "batch_size = 32\n",
    "shuffle = True\n",
    "\n",
    "# Dataloader\n",
    "dataloader_train = DataLoader(X_train, y_train, batch_size, shuffle)\n",
    "dataloader_valid = DataLoader(X_valid, y_valid, batch_size, not shuffle)\n"
   ]
  },
  {
   "cell_type": "code",
   "execution_count": 4,
   "id": "4c63b41c",
   "metadata": {},
   "outputs": [],
   "source": [
    "# Training hyperparameters\n",
    "epoch = 50\n",
    "lr = 1e-4\n",
    "weight_decay = 1e-5\n",
    "\n",
    "# Model\n",
    "W1 = np.random.lognormal(size=(X.shape[-1], 32)).astype(np.float32) * 1e-2\n",
    "b1 = np.random.lognormal(size=(32,)).astype(np.float32) * 1e-2\n",
    "\n",
    "W2 = np.random.lognormal(size=(32, 64)).astype(np.float32) * 1e-2\n",
    "b2 = np.random.lognormal(size=(64,)).astype(np.float32) * 1e-2\n",
    "\n",
    "W3 = np.random.lognormal(size=(64, 1)).astype(np.float32) * 1e-2\n",
    "b3 = np.random.lognormal(size=(1)).astype(np.float32) * 1e-2\n"
   ]
  },
  {
   "cell_type": "code",
   "execution_count": 5,
   "id": "bc45f1f5-e8a4-43b6-aa1d-79fa43027f69",
   "metadata": {},
   "outputs": [
    {
     "name": "stdout",
     "output_type": "stream",
     "text": [
      "Epoch 1/50\n"
     ]
    },
    {
     "name": "stderr",
     "output_type": "stream",
     "text": [
      "12it [00:00, 999.14it/s, loss=13745.2320, val_loss=14586.5192]    \n"
     ]
    },
    {
     "name": "stdout",
     "output_type": "stream",
     "text": [
      "Epoch 2/50\n"
     ]
    },
    {
     "name": "stderr",
     "output_type": "stream",
     "text": [
      "12it [00:00, 1042.65it/s, loss=13710.7290, val_loss=14548.6019]   \n"
     ]
    },
    {
     "name": "stdout",
     "output_type": "stream",
     "text": [
      "Epoch 3/50\n"
     ]
    },
    {
     "name": "stderr",
     "output_type": "stream",
     "text": [
      "12it [00:00, 999.14it/s, loss=13671.4133, val_loss=14503.7428]    \n"
     ]
    },
    {
     "name": "stdout",
     "output_type": "stream",
     "text": [
      "Epoch 4/50\n"
     ]
    },
    {
     "name": "stderr",
     "output_type": "stream",
     "text": [
      "12it [00:00, 922.26it/s, loss=13623.0907, val_loss=14445.6872]    \n"
     ]
    },
    {
     "name": "stdout",
     "output_type": "stream",
     "text": [
      "Epoch 5/50\n"
     ]
    },
    {
     "name": "stderr",
     "output_type": "stream",
     "text": [
      "12it [00:00, 922.30it/s, loss=13557.0851, val_loss=14360.6979]    \n"
     ]
    },
    {
     "name": "stdout",
     "output_type": "stream",
     "text": [
      "Epoch 6/50\n"
     ]
    },
    {
     "name": "stderr",
     "output_type": "stream",
     "text": [
      "12it [00:00, 856.43it/s, loss=13452.9000, val_loss=14213.8792]   \n"
     ]
    },
    {
     "name": "stdout",
     "output_type": "stream",
     "text": [
      "Epoch 7/50\n"
     ]
    },
    {
     "name": "stderr",
     "output_type": "stream",
     "text": [
      "12it [00:00, 888.18it/s, loss=13253.0485, val_loss=13897.6637]    \n"
     ]
    },
    {
     "name": "stdout",
     "output_type": "stream",
     "text": [
      "Epoch 8/50\n"
     ]
    },
    {
     "name": "stderr",
     "output_type": "stream",
     "text": [
      "12it [00:00, 999.18it/s, loss=12754.0999, val_loss=12983.0632]    \n"
     ]
    },
    {
     "name": "stdout",
     "output_type": "stream",
     "text": [
      "Epoch 9/50\n"
     ]
    },
    {
     "name": "stderr",
     "output_type": "stream",
     "text": [
      "12it [00:00, 999.18it/s, loss=11020.6836, val_loss=9382.7910]     \n"
     ]
    },
    {
     "name": "stdout",
     "output_type": "stream",
     "text": [
      "Epoch 10/50\n"
     ]
    },
    {
     "name": "stderr",
     "output_type": "stream",
     "text": [
      "12it [00:00, 959.19it/s, loss=5520.7275, val_loss=2830.8102]     \n"
     ]
    },
    {
     "name": "stdout",
     "output_type": "stream",
     "text": [
      "Epoch 11/50\n"
     ]
    },
    {
     "name": "stderr",
     "output_type": "stream",
     "text": [
      "12it [00:00, 1042.54it/s, loss=2300.9122, val_loss=2381.6725]    \n"
     ]
    },
    {
     "name": "stdout",
     "output_type": "stream",
     "text": [
      "Epoch 12/50\n"
     ]
    },
    {
     "name": "stderr",
     "output_type": "stream",
     "text": [
      "12it [00:00, 959.19it/s, loss=2189.7388, val_loss=2326.4030]     \n"
     ]
    },
    {
     "name": "stdout",
     "output_type": "stream",
     "text": [
      "Epoch 13/50\n"
     ]
    },
    {
     "name": "stderr",
     "output_type": "stream",
     "text": [
      "12it [00:00, 959.19it/s, loss=2141.8142, val_loss=2277.1230]     \n"
     ]
    },
    {
     "name": "stdout",
     "output_type": "stream",
     "text": [
      "Epoch 14/50\n"
     ]
    },
    {
     "name": "stderr",
     "output_type": "stream",
     "text": [
      "12it [00:00, 1042.60it/s, loss=2097.4029, val_loss=2231.1279]    \n"
     ]
    },
    {
     "name": "stdout",
     "output_type": "stream",
     "text": [
      "Epoch 15/50\n"
     ]
    },
    {
     "name": "stderr",
     "output_type": "stream",
     "text": [
      "12it [00:00, 1042.60it/s, loss=2055.9834, val_loss=2187.8116]    \n"
     ]
    },
    {
     "name": "stdout",
     "output_type": "stream",
     "text": [
      "Epoch 16/50\n"
     ]
    },
    {
     "name": "stderr",
     "output_type": "stream",
     "text": [
      "12it [00:00, 888.12it/s, loss=2017.1333, val_loss=2146.7205]     \n"
     ]
    },
    {
     "name": "stdout",
     "output_type": "stream",
     "text": [
      "Epoch 17/50\n"
     ]
    },
    {
     "name": "stderr",
     "output_type": "stream",
     "text": [
      "12it [00:00, 959.21it/s, loss=1980.5205, val_loss=2107.5042]     \n"
     ]
    },
    {
     "name": "stdout",
     "output_type": "stream",
     "text": [
      "Epoch 18/50\n"
     ]
    },
    {
     "name": "stderr",
     "output_type": "stream",
     "text": [
      "12it [00:00, 1042.56it/s, loss=1945.8823, val_loss=2069.8916]    \n"
     ]
    },
    {
     "name": "stdout",
     "output_type": "stream",
     "text": [
      "Epoch 19/50\n"
     ]
    },
    {
     "name": "stderr",
     "output_type": "stream",
     "text": [
      "12it [00:00, 959.21it/s, loss=1913.0089, val_loss=2033.6775]     \n"
     ]
    },
    {
     "name": "stdout",
     "output_type": "stream",
     "text": [
      "Epoch 20/50\n"
     ]
    },
    {
     "name": "stderr",
     "output_type": "stream",
     "text": [
      "12it [00:00, 922.33it/s, loss=1881.7321, val_loss=1998.7102]     \n"
     ]
    },
    {
     "name": "stdout",
     "output_type": "stream",
     "text": [
      "Epoch 21/50\n"
     ]
    },
    {
     "name": "stderr",
     "output_type": "stream",
     "text": [
      "12it [00:00, 999.10it/s, loss=1851.9164, val_loss=1964.8834]     \n"
     ]
    },
    {
     "name": "stdout",
     "output_type": "stream",
     "text": [
      "Epoch 22/50\n"
     ]
    },
    {
     "name": "stderr",
     "output_type": "stream",
     "text": [
      "12it [00:00, 959.19it/s, loss=1823.4531, val_loss=1932.1302]     \n"
     ]
    },
    {
     "name": "stdout",
     "output_type": "stream",
     "text": [
      "Epoch 23/50\n"
     ]
    },
    {
     "name": "stderr",
     "output_type": "stream",
     "text": [
      "12it [00:00, 888.14it/s, loss=1796.2552, val_loss=1900.4163]     \n"
     ]
    },
    {
     "name": "stdout",
     "output_type": "stream",
     "text": [
      "Epoch 24/50\n"
     ]
    },
    {
     "name": "stderr",
     "output_type": "stream",
     "text": [
      "12it [00:00, 959.17it/s, loss=1770.2542, val_loss=1869.7367]     \n"
     ]
    },
    {
     "name": "stdout",
     "output_type": "stream",
     "text": [
      "Epoch 25/50\n"
     ]
    },
    {
     "name": "stderr",
     "output_type": "stream",
     "text": [
      "12it [00:00, 1042.49it/s, loss=1745.3973, val_loss=1840.1091]    \n"
     ]
    },
    {
     "name": "stdout",
     "output_type": "stream",
     "text": [
      "Epoch 26/50\n"
     ]
    },
    {
     "name": "stderr",
     "output_type": "stream",
     "text": [
      "12it [00:00, 888.04it/s, loss=1721.6450, val_loss=1811.5712]    \n"
     ]
    },
    {
     "name": "stdout",
     "output_type": "stream",
     "text": [
      "Epoch 27/50\n"
     ]
    },
    {
     "name": "stderr",
     "output_type": "stream",
     "text": [
      "12it [00:00, 959.17it/s, loss=1698.9691, val_loss=1784.1744]     \n"
     ]
    },
    {
     "name": "stdout",
     "output_type": "stream",
     "text": [
      "Epoch 28/50\n"
     ]
    },
    {
     "name": "stderr",
     "output_type": "stream",
     "text": [
      "12it [00:00, 922.30it/s, loss=1677.3500, val_loss=1757.9790]     \n"
     ]
    },
    {
     "name": "stdout",
     "output_type": "stream",
     "text": [
      "Epoch 29/50\n"
     ]
    },
    {
     "name": "stderr",
     "output_type": "stream",
     "text": [
      "12it [00:00, 888.12it/s, loss=1656.7757, val_loss=1733.0515]     \n"
     ]
    },
    {
     "name": "stdout",
     "output_type": "stream",
     "text": [
      "Epoch 30/50\n"
     ]
    },
    {
     "name": "stderr",
     "output_type": "stream",
     "text": [
      "12it [00:00, 888.17it/s, loss=1637.2390, val_loss=1709.4558]    \n"
     ]
    },
    {
     "name": "stdout",
     "output_type": "stream",
     "text": [
      "Epoch 31/50\n"
     ]
    },
    {
     "name": "stderr",
     "output_type": "stream",
     "text": [
      "12it [00:00, 888.12it/s, loss=1618.7354, val_loss=1687.2512]     \n"
     ]
    },
    {
     "name": "stdout",
     "output_type": "stream",
     "text": [
      "Epoch 32/50\n"
     ]
    },
    {
     "name": "stderr",
     "output_type": "stream",
     "text": [
      "12it [00:00, 999.22it/s, loss=1601.2609, val_loss=1666.4879]     \n"
     ]
    },
    {
     "name": "stdout",
     "output_type": "stream",
     "text": [
      "Epoch 33/50\n"
     ]
    },
    {
     "name": "stderr",
     "output_type": "stream",
     "text": [
      "12it [00:00, 959.06it/s, loss=1584.8100, val_loss=1647.2019]     \n"
     ]
    },
    {
     "name": "stdout",
     "output_type": "stream",
     "text": [
      "Epoch 34/50\n"
     ]
    },
    {
     "name": "stderr",
     "output_type": "stream",
     "text": [
      "12it [00:00, 1089.90it/s, loss=1569.3737, val_loss=1629.4135]    \n"
     ]
    },
    {
     "name": "stdout",
     "output_type": "stream",
     "text": [
      "Epoch 35/50\n"
     ]
    },
    {
     "name": "stderr",
     "output_type": "stream",
     "text": [
      "12it [00:00, 1141.72it/s, loss=1554.9382, val_loss=1613.1249]    \n"
     ]
    },
    {
     "name": "stdout",
     "output_type": "stream",
     "text": [
      "Epoch 36/50\n"
     ]
    },
    {
     "name": "stderr",
     "output_type": "stream",
     "text": [
      "12it [00:00, 922.31it/s, loss=1541.4836, val_loss=1598.3192]     \n"
     ]
    },
    {
     "name": "stdout",
     "output_type": "stream",
     "text": [
      "Epoch 37/50\n"
     ]
    },
    {
     "name": "stderr",
     "output_type": "stream",
     "text": [
      "12it [00:00, 1042.56it/s, loss=1528.9839, val_loss=1584.9612]    \n"
     ]
    },
    {
     "name": "stdout",
     "output_type": "stream",
     "text": [
      "Epoch 38/50\n"
     ]
    },
    {
     "name": "stderr",
     "output_type": "stream",
     "text": [
      "12it [00:00, 959.21it/s, loss=1517.4060, val_loss=1572.9985]     \n"
     ]
    },
    {
     "name": "stdout",
     "output_type": "stream",
     "text": [
      "Epoch 39/50\n"
     ]
    },
    {
     "name": "stderr",
     "output_type": "stream",
     "text": [
      "12it [00:00, 1042.56it/s, loss=1506.7114, val_loss=1562.3634]    \n"
     ]
    },
    {
     "name": "stdout",
     "output_type": "stream",
     "text": [
      "Epoch 40/50\n"
     ]
    },
    {
     "name": "stderr",
     "output_type": "stream",
     "text": [
      "12it [00:00, 1042.58it/s, loss=1496.8560, val_loss=1552.9763]    \n"
     ]
    },
    {
     "name": "stdout",
     "output_type": "stream",
     "text": [
      "Epoch 41/50\n"
     ]
    },
    {
     "name": "stderr",
     "output_type": "stream",
     "text": [
      "12it [00:00, 959.17it/s, loss=1487.7918, val_loss=1544.7480]     \n"
     ]
    },
    {
     "name": "stdout",
     "output_type": "stream",
     "text": [
      "Epoch 42/50\n"
     ]
    },
    {
     "name": "stderr",
     "output_type": "stream",
     "text": [
      "12it [00:00, 922.31it/s, loss=1479.4681, val_loss=1537.5839]     \n"
     ]
    },
    {
     "name": "stdout",
     "output_type": "stream",
     "text": [
      "Epoch 43/50\n"
     ]
    },
    {
     "name": "stderr",
     "output_type": "stream",
     "text": [
      "12it [00:00, 1198.91it/s, loss=1471.8328, val_loss=1531.3861]    \n"
     ]
    },
    {
     "name": "stdout",
     "output_type": "stream",
     "text": [
      "Epoch 44/50\n"
     ]
    },
    {
     "name": "stderr",
     "output_type": "stream",
     "text": [
      "12it [00:00, 1089.97it/s, loss=1464.8336, val_loss=1526.0575]    \n"
     ]
    },
    {
     "name": "stdout",
     "output_type": "stream",
     "text": [
      "Epoch 45/50\n"
     ]
    },
    {
     "name": "stderr",
     "output_type": "stream",
     "text": [
      "12it [00:00, 959.15it/s, loss=1458.4195, val_loss=1521.5025]     \n"
     ]
    },
    {
     "name": "stdout",
     "output_type": "stream",
     "text": [
      "Epoch 46/50\n"
     ]
    },
    {
     "name": "stderr",
     "output_type": "stream",
     "text": [
      "12it [00:00, 959.08it/s, loss=1452.5412, val_loss=1517.6313]     \n"
     ]
    },
    {
     "name": "stdout",
     "output_type": "stream",
     "text": [
      "Epoch 47/50\n"
     ]
    },
    {
     "name": "stderr",
     "output_type": "stream",
     "text": [
      "12it [00:00, 999.14it/s, loss=1447.1521, val_loss=1514.3588]     \n"
     ]
    },
    {
     "name": "stdout",
     "output_type": "stream",
     "text": [
      "Epoch 48/50\n"
     ]
    },
    {
     "name": "stderr",
     "output_type": "stream",
     "text": [
      "12it [00:00, 1042.69it/s, loss=1442.2087, val_loss=1511.6075]    \n"
     ]
    },
    {
     "name": "stdout",
     "output_type": "stream",
     "text": [
      "Epoch 49/50\n"
     ]
    },
    {
     "name": "stderr",
     "output_type": "stream",
     "text": [
      "12it [00:00, 1089.93it/s, loss=1437.6712, val_loss=1509.3068]    \n"
     ]
    },
    {
     "name": "stdout",
     "output_type": "stream",
     "text": [
      "Epoch 50/50\n"
     ]
    },
    {
     "name": "stderr",
     "output_type": "stream",
     "text": [
      "12it [00:00, 888.14it/s, loss=1433.5027, val_loss=1507.3936]     \n"
     ]
    }
   ],
   "source": [
    "record = []\n",
    "for i in range(1, epoch + 1):\n",
    "\n",
    "    print(f\"Epoch {i}/{epoch}\")\n",
    "    pbar = tqdm(total=len(dataloader_train))\n",
    "\n",
    "    loss_train = []\n",
    "    for x_train, y_train in dataloader_train:\n",
    "        # Forward pass\n",
    "        bmm1 = np.einsum(\"bi,io->bo\", x_train, W1)\n",
    "        add1 = bmm1 + b1\n",
    "\n",
    "        bmm2 = np.einsum(\"bi,io->bo\", add1, W2)\n",
    "        add2 = bmm2 + b2\n",
    "\n",
    "        bmm3 = np.einsum(\"bi,io->bo\", add2, W3)\n",
    "        add3 = bmm3 + b3\n",
    "\n",
    "        # Calculate loss (MSE)\n",
    "        diff = add3 - y_train[:, None]\n",
    "        loss = np.mean(np.square(diff)) / 2\n",
    "\n",
    "        # Backward pass\n",
    "        size = x_train.shape[0]\n",
    "        out3_grad = diff / size\n",
    "\n",
    "        b3_grad = np.einsum(\"o,bo->o\", np.ones_like(b3), out3_grad)\n",
    "        W3_grad = np.einsum(\"bi,bo->io\", bmm2, out3_grad)\n",
    "\n",
    "        out2_grad = np.einsum(\"io,bo->bi\", W3, out3_grad)\n",
    "\n",
    "        b2_grad = np.einsum(\"o,bo->o\", np.ones_like(b2), out2_grad)\n",
    "        W2_grad = np.einsum(\"bi,bo->io\", bmm1, out2_grad)\n",
    "\n",
    "        out1_grad = np.einsum(\"io,bo->bi\", W2, out2_grad)\n",
    "\n",
    "        b1_grad = np.einsum(\"o,bo->o\", np.ones_like(b1), out1_grad)\n",
    "        W1_grad = np.einsum(\"bi,bo->io\", x_train, out1_grad)\n",
    "\n",
    "        # Optimize (SGD with regularization)\n",
    "\n",
    "        # Regularize\n",
    "        b3_grad += b3 * weight_decay\n",
    "        W3_grad += W3 * weight_decay\n",
    "\n",
    "        b2_grad += b2 * weight_decay\n",
    "        W2_grad += W2 * weight_decay\n",
    "\n",
    "        b1_grad += b1 * weight_decay\n",
    "        W1_grad += W1 * weight_decay\n",
    "\n",
    "        # Update parameters\n",
    "        b3 -= lr * b3_grad\n",
    "        W3 -= lr * W3_grad\n",
    "\n",
    "        b2 -= lr * b2_grad\n",
    "        W2 -= lr * W2_grad\n",
    "\n",
    "        b1 -= lr * b1_grad\n",
    "        W1 -= lr * W1_grad\n",
    "\n",
    "        # Record batch-wise loss\n",
    "        loss_train.append(loss)\n",
    "        pbar.update(1)\n",
    "        pbar.set_postfix(loss=f\"{np.mean(loss_train):.4f}\")\n",
    "\n",
    "    loss_train = np.mean(loss_train)\n",
    "    record.append({\"Epoch\": i, \"Subset\": \"Training\", \"Loss\": loss_train})\n",
    "\n",
    "    loss_valid = []\n",
    "    for x_valid, y_valid in dataloader_valid:\n",
    "        # Forward pass\n",
    "        bmm1 = np.einsum(\"bi,io->bo\", x_valid, W1)\n",
    "        add1 = bmm1 + b1\n",
    "\n",
    "        bmm2 = np.einsum(\"bi,io->bo\", add1, W2)\n",
    "        add2 = bmm2 + b2\n",
    "\n",
    "        bmm3 = np.einsum(\"bi,io->bo\", add2, W3)\n",
    "        add3 = bmm3 + b3\n",
    "\n",
    "        # Calculate loss (MSE)\n",
    "        diff = add3 - y_valid[:, None]\n",
    "        loss = np.mean(np.square(diff)) / 2\n",
    "\n",
    "        # Record batch-wise loss\n",
    "        loss_valid.append(loss)\n",
    "        pbar.set_postfix(\n",
    "            loss=f\"{loss_train:.4f}\", val_loss=f\"{np.mean(loss_valid):.4f}\"\n",
    "        )\n",
    "\n",
    "    loss_valid = np.mean(loss_valid)\n",
    "    record.append({\"Epoch\": i, \"Subset\": \"Validation\", \"Loss\": loss_valid})\n",
    "\n",
    "    # Add loss to progress bar\n",
    "    pbar.close()\n"
   ]
  },
  {
   "cell_type": "code",
   "execution_count": 11,
   "id": "f7e961ae",
   "metadata": {},
   "outputs": [
    {
     "data": {
      "image/png": "[encoded data removed]",
      "text/plain": [
       "<Figure size 864x288 with 1 Axes>"
      ]
     },
     "metadata": {
      "needs_background": "light"
     },
     "output_type": "display_data"
    }
   ],
   "source": [
    "if not isinstance(record, pd.DataFrame):\n",
    "    record = pd.DataFrame(record)\n",
    "\n",
    "plt.figure(figsize=(12, 4))\n",
    "plt.title(\"Training Result\")\n",
    "sns.lineplot(data=record, x=\"Epoch\", y=\"Loss\", hue=\"Subset\")\n",
    "plt.show()\n"
   ]
  }
 ],
 "metadata": {
  "kernelspec": {
   "display_name": "Python 3.9.7 64-bit",
   "language": "python",
   "name": "python3"
  },
  "language_info": {
   "codemirror_mode": {
    "name": "ipython",
    "version": 3
   },
   "file_extension": ".py",
   "mimetype": "text/x-python",
   "name": "python",
   "nbconvert_exporter": "python",
   "pygments_lexer": "ipython3",
   "version": "3.9.7"
  },
  "vscode": {
   "interpreter": {
    "hash": "c347c8f9a7ef94e4c9e03b4513be7835ed18f45b99a2a817fb579f408b867b16"
   }
  },
  "widgets": {
   "application/vnd.jupyter.widget-state+json": {
    "state": {
     "04efd946a84347afb6ba987fd4931618": {
      "model_module": "@jupyter-widgets/controls",
      "model_module_version": "1.5.0",
      "model_name": "HTMLModel",
      "state": {
       "layout": "IPY_MODEL_45e0cb7f8951470c91e4ca174ae851c6",
       "style": "IPY_MODEL_6315d64fb0134e44beff314eaf135f95",
       "value": "100%"
      }
     },
     "2c041c3934a34e7988a0339242981f26": {
      "model_module": "@jupyter-widgets/base",
      "model_module_version": "1.2.0",
      "model_name": "LayoutModel",
      "state": {}
     },
     "3a87155744894b2b8e504d166e64fe44": {
      "model_module": "@jupyter-widgets/base",
      "model_module_version": "1.2.0",
      "model_name": "LayoutModel",
      "state": {}
     },
     "45e0cb7f8951470c91e4ca174ae851c6": {
      "model_module": "@jupyter-widgets/base",
      "model_module_version": "1.2.0",
      "model_name": "LayoutModel",
      "state": {}
     },
     "6315d64fb0134e44beff314eaf135f95": {
      "model_module": "@jupyter-widgets/controls",
      "model_module_version": "1.5.0",
      "model_name": "DescriptionStyleModel",
      "state": {
       "description_width": ""
      }
     },
     "761dd4cf86024f4abdfe758f04320c87": {
      "model_module": "@jupyter-widgets/controls",
      "model_module_version": "1.5.0",
      "model_name": "DescriptionStyleModel",
      "state": {
       "description_width": ""
      }
     },
     "9057a92ff7a449a4ab158ba9aeda7da6": {
      "model_module": "@jupyter-widgets/controls",
      "model_module_version": "1.5.0",
      "model_name": "ProgressStyleModel",
      "state": {
       "description_width": ""
      }
     },
     "919e877ca4c343cf938a5b5a1d563e1b": {
      "model_module": "@jupyter-widgets/controls",
      "model_module_version": "1.5.0",
      "model_name": "HBoxModel",
      "state": {
       "children": [
        "IPY_MODEL_04efd946a84347afb6ba987fd4931618",
        "IPY_MODEL_a78596dff71d40e1824b418944263190",
        "IPY_MODEL_d359c8d744ac40bea65138f98a5ab371"
       ],
       "layout": "IPY_MODEL_d723717afc54496aa58a1473a6295ec3"
      }
     },
     "a78596dff71d40e1824b418944263190": {
      "model_module": "@jupyter-widgets/controls",
      "model_module_version": "1.5.0",
      "model_name": "FloatProgressModel",
      "state": {
       "bar_style": "success",
       "layout": "IPY_MODEL_3a87155744894b2b8e504d166e64fe44",
       "max": 1000,
       "style": "IPY_MODEL_9057a92ff7a449a4ab158ba9aeda7da6",
       "value": 1000
      }
     },
     "d359c8d744ac40bea65138f98a5ab371": {
      "model_module": "@jupyter-widgets/controls",
      "model_module_version": "1.5.0",
      "model_name": "HTMLModel",
      "state": {
       "layout": "IPY_MODEL_2c041c3934a34e7988a0339242981f26",
       "style": "IPY_MODEL_761dd4cf86024f4abdfe758f04320c87",
       "value": " 1000/1000 [00:02&lt;00:00, 360.93it/s, loss=1,556.3273]"
      }
     },
     "d723717afc54496aa58a1473a6295ec3": {
      "model_module": "@jupyter-widgets/base",
      "model_module_version": "1.2.0",
      "model_name": "LayoutModel",
      "state": {}
     }
    },
    "version_major": 2,
    "version_minor": 0
   }
  }
 },
 "nbformat": 4,
 "nbformat_minor": 5
}
